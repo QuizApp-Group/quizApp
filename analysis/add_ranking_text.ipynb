{
 "cells": [
  {
   "cell_type": "code",
   "execution_count": 1,
   "metadata": {
    "collapsed": true
   },
   "outputs": [],
   "source": [
    "import pandas as pd"
   ]
  },
  {
   "cell_type": "code",
   "execution_count": 2,
   "metadata": {
    "collapsed": true
   },
   "outputs": [],
   "source": [
    "df = pd.read_csv('results_table_list.csv')"
   ]
  },
  {
   "cell_type": "code",
   "execution_count": 3,
   "metadata": {
    "collapsed": false
   },
   "outputs": [
    {
     "data": {
      "text/plain": [
       "Index(['Student_id', 'Student_Test_id', 'Result_id', 'answer', 'graph_id',\n",
       "       'answer_text', 'question_id', 'question', 'Question_type', 'dataset'],\n",
       "      dtype='object')"
      ]
     },
     "execution_count": 3,
     "metadata": {},
     "output_type": "execute_result"
    }
   ],
   "source": [
    "df.columns"
   ]
  },
  {
   "cell_type": "code",
   "execution_count": 4,
   "metadata": {
    "collapsed": false
   },
   "outputs": [],
   "source": [
    "new_df = pd.DataFrame()\n",
    "for ix, data in df.groupby(['Student_id', 'Question_type', 'dataset',\n",
    "                            'question_id']):\n",
    "    if ix[1] == 'pre_test':\n",
    "        if len(data)>3:\n",
    "            new_df = new_df.append(data.iloc[:3])\n",
    "        else:\n",
    "            new_df = new_df.append(data)\n",
    "    else:\n",
    "        if len(data)>1:\n",
    "            new_df = new_df.append(data.iloc[0])\n",
    "        else:\n",
    "            new_df = new_df.append(data)"
   ]
  },
  {
   "cell_type": "code",
   "execution_count": 5,
   "metadata": {
    "collapsed": false
   },
   "outputs": [
    {
     "name": "stderr",
     "output_type": "stream",
     "text": [
      "/Users/colingerber/Documents/Marti_CS160_Project/env/lib/python3.4/site-packages/pandas/core/generic.py:2177: SettingWithCopyWarning: \n",
      "A value is trying to be set on a copy of a slice from a DataFrame.\n",
      "Try using .loc[row_indexer,col_indexer] = value instead\n",
      "\n",
      "See the the caveats in the documentation: http://pandas.pydata.org/pandas-docs/stable/indexing.html#indexing-view-versus-copy\n",
      "  self[name] = value\n"
     ]
    }
   ],
   "source": [
    "final_df = pd.DataFrame()\n",
    "new_question_text = ['(First) Each of these three visualizations cover the same data. Please rank them in the order you think reflects their overall effectiveness and design quality.',\n",
    "                    '(Second) Each of these three visualizations cover the same data. Please rank them in the order you think reflects their overall effectiveness and design quality.',\n",
    "                    '(Third) Each of these three visualizations cover the same data. Please rank them in the order you think reflects their overall effectiveness and design quality.']\n",
    "for ix, data in new_df.groupby(['Student_id', 'Question_type', 'dataset']):\n",
    "\n",
    "    if ix[1] == 'pre_test':\n",
    "        data.answer_text = data.graph_id\n",
    "        data.question = new_question_text\n",
    "        final_df = final_df.append(data)\n",
    "    elif ix[1] == 'rating':\n",
    "        data.answer_text = data.answer\n",
    "        final_df = final_df.append(data)\n",
    "    else:\n",
    "        final_df = final_df.append(data)"
   ]
  },
  {
   "cell_type": "code",
   "execution_count": 6,
   "metadata": {
    "collapsed": false
   },
   "outputs": [],
   "source": [
    "#add condition data\n",
    "df_sid = pd.read_csv('student_id_list.csv')\n",
    "df_sid.Questions = df_sid.Questions.apply(lambda x: int(x))\n",
    "df_sid.Heuristics = df_sid.Heuristics.apply(lambda x: int(x))\n",
    "question_student_id_list = [int(x) for x in list(df_sid.Questions)]\n",
    "heuristic_student_id_list = [int(x) for x in list(df_sid.Heuristics)]\n",
    "\n",
    "condition_list = []\n",
    "for ix,data in final_df.iterrows():\n",
    "    if data.Student_id in question_student_id_list:\n",
    "        condition_list.append('question')\n",
    "    elif data.Student_id in heuristic_student_id_list:\n",
    "        condition_list.append('heuristic')"
   ]
  },
  {
   "cell_type": "code",
   "execution_count": 7,
   "metadata": {
    "collapsed": false
   },
   "outputs": [],
   "source": [
    "final_df.condition = condition_list"
   ]
  },
  {
   "cell_type": "code",
   "execution_count": 8,
   "metadata": {
    "collapsed": false
   },
   "outputs": [
    {
     "data": {
      "text/html": [
       "<div>\n",
       "<table border=\"1\" class=\"dataframe\">\n",
       "  <thead>\n",
       "    <tr style=\"text-align: right;\">\n",
       "      <th></th>\n",
       "      <th>Student_id</th>\n",
       "      <th>Student_Test_id</th>\n",
       "      <th>Result_id</th>\n",
       "      <th>answer</th>\n",
       "      <th>graph_id</th>\n",
       "      <th>answer_text</th>\n",
       "      <th>question_id</th>\n",
       "      <th>question</th>\n",
       "      <th>Question_type</th>\n",
       "      <th>dataset</th>\n",
       "    </tr>\n",
       "  </thead>\n",
       "  <tbody>\n",
       "    <tr>\n",
       "      <th>759</th>\n",
       "      <td>11814</td>\n",
       "      <td>549</td>\n",
       "      <td>907</td>\n",
       "      <td>63</td>\n",
       "      <td>1</td>\n",
       "      <td>neutral</td>\n",
       "      <td>6</td>\n",
       "      <td>This visualization uses visual components appr...</td>\n",
       "      <td>heuristic</td>\n",
       "      <td>0</td>\n",
       "    </tr>\n",
       "    <tr>\n",
       "      <th>761</th>\n",
       "      <td>11814</td>\n",
       "      <td>550</td>\n",
       "      <td>909</td>\n",
       "      <td>72</td>\n",
       "      <td>1</td>\n",
       "      <td>disagree</td>\n",
       "      <td>7</td>\n",
       "      <td>This visualization makes important information...</td>\n",
       "      <td>heuristic</td>\n",
       "      <td>0</td>\n",
       "    </tr>\n",
       "    <tr>\n",
       "      <th>767</th>\n",
       "      <td>11814</td>\n",
       "      <td>551</td>\n",
       "      <td>917</td>\n",
       "      <td>83</td>\n",
       "      <td>1</td>\n",
       "      <td>neutral</td>\n",
       "      <td>8</td>\n",
       "      <td>This visualization successfully presents multi...</td>\n",
       "      <td>heuristic</td>\n",
       "      <td>0</td>\n",
       "    </tr>\n",
       "    <tr>\n",
       "      <th>606</th>\n",
       "      <td>11814</td>\n",
       "      <td>541</td>\n",
       "      <td>744</td>\n",
       "      <td>262</td>\n",
       "      <td>22</td>\n",
       "      <td>disagree</td>\n",
       "      <td>26</td>\n",
       "      <td>This visualization uses visual components appr...</td>\n",
       "      <td>heuristic</td>\n",
       "      <td>2</td>\n",
       "    </tr>\n",
       "    <tr>\n",
       "      <th>747</th>\n",
       "      <td>11814</td>\n",
       "      <td>542</td>\n",
       "      <td>891</td>\n",
       "      <td>273</td>\n",
       "      <td>22</td>\n",
       "      <td>neutral</td>\n",
       "      <td>27</td>\n",
       "      <td>This visualization makes important information...</td>\n",
       "      <td>heuristic</td>\n",
       "      <td>2</td>\n",
       "    </tr>\n",
       "  </tbody>\n",
       "</table>\n",
       "</div>"
      ],
      "text/plain": [
       "     Student_id  Student_Test_id  Result_id answer  graph_id answer_text  \\\n",
       "759       11814              549        907     63         1     neutral   \n",
       "761       11814              550        909     72         1    disagree   \n",
       "767       11814              551        917     83         1     neutral   \n",
       "606       11814              541        744    262        22    disagree   \n",
       "747       11814              542        891    273        22     neutral   \n",
       "\n",
       "     question_id                                           question  \\\n",
       "759            6  This visualization uses visual components appr...   \n",
       "761            7  This visualization makes important information...   \n",
       "767            8  This visualization successfully presents multi...   \n",
       "606           26  This visualization uses visual components appr...   \n",
       "747           27  This visualization makes important information...   \n",
       "\n",
       "    Question_type  dataset  \n",
       "759     heuristic        0  \n",
       "761     heuristic        0  \n",
       "767     heuristic        0  \n",
       "606     heuristic        2  \n",
       "747     heuristic        2  "
      ]
     },
     "execution_count": 8,
     "metadata": {},
     "output_type": "execute_result"
    }
   ],
   "source": [
    "final_df.head()"
   ]
  },
  {
   "cell_type": "code",
   "execution_count": 9,
   "metadata": {
    "collapsed": false
   },
   "outputs": [],
   "source": [
    "final_df.to_csv('results_table_cleaned.csv', index=False)"
   ]
  },
  {
   "cell_type": "code",
   "execution_count": null,
   "metadata": {
    "collapsed": true
   },
   "outputs": [],
   "source": []
  }
 ],
 "metadata": {
  "kernelspec": {
   "display_name": "Python 3",
   "language": "python",
   "name": "python3"
  },
  "language_info": {
   "codemirror_mode": {
    "name": "ipython",
    "version": 3
   },
   "file_extension": ".py",
   "mimetype": "text/x-python",
   "name": "python",
   "nbconvert_exporter": "python",
   "pygments_lexer": "ipython3",
   "version": "3.4.3"
  }
 },
 "nbformat": 4,
 "nbformat_minor": 0
}
