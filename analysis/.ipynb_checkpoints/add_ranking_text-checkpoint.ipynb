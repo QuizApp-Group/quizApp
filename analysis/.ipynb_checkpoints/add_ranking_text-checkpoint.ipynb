{
 "cells": [
  {
   "cell_type": "code",
   "execution_count": 1,
   "metadata": {
    "collapsed": true
   },
   "outputs": [],
   "source": [
    "import pandas as pd"
   ]
  },
  {
   "cell_type": "code",
   "execution_count": 4,
   "metadata": {
    "collapsed": true
   },
   "outputs": [],
   "source": [
    "df = pd.read_csv('results_table_list.csv')"
   ]
  },
  {
   "cell_type": "code",
   "execution_count": 39,
   "metadata": {
    "collapsed": false
   },
   "outputs": [],
   "source": [
    "new_df = pd.DataFrame()\n",
    "for ix, data in df.groupby(['Student_id', 'Question_type', 'dataset',\n",
    "                            'question_id']):\n",
    "    if ix[1] == 'pre_test':\n",
    "        if len(data)>3:\n",
    "            new_df = new_df.append(data.iloc[:3])\n",
    "        else:\n",
    "            new_df = new_df.append(data)\n",
    "    else:\n",
    "        if len(data)>1:\n",
    "            new_df = new_df.append(data.iloc[0])\n",
    "        else:\n",
    "            new_df = new_df.append(data)"
   ]
  },
  {
   "cell_type": "code",
   "execution_count": 42,
   "metadata": {
    "collapsed": false
   },
   "outputs": [
    {
     "name": "stderr",
     "output_type": "stream",
     "text": [
      "/Users/colingerber/Documents/Marti_CS160_Project/env/lib/python3.4/site-packages/pandas/core/generic.py:2177: SettingWithCopyWarning: \n",
      "A value is trying to be set on a copy of a slice from a DataFrame.\n",
      "Try using .loc[row_indexer,col_indexer] = value instead\n",
      "\n",
      "See the the caveats in the documentation: http://pandas.pydata.org/pandas-docs/stable/indexing.html#indexing-view-versus-copy\n",
      "  self[name] = value\n"
     ]
    }
   ],
   "source": [
    "final_df = pd.DataFrame()\n",
    "for ix, data in new_df.groupby(['Student_id', 'Question_type', 'dataset']):\n",
    "\n",
    "    if ix[1] == 'pre_test':\n",
    "        data.answer_text = ['1st', '2nd', '3rd']\n",
    "        final_df = final_df.append(data)\n",
    "    else:\n",
    "        final_df = final_df.append(data)"
   ]
  },
  {
   "cell_type": "code",
   "execution_count": 44,
   "metadata": {
    "collapsed": false
   },
   "outputs": [],
   "source": [
    "final_df.to_csv('results_table_cleaned.csv', index=False)"
   ]
  },
  {
   "cell_type": "code",
   "execution_count": null,
   "metadata": {
    "collapsed": true
   },
   "outputs": [],
   "source": []
  }
 ],
 "metadata": {
  "kernelspec": {
   "display_name": "Python 3",
   "language": "python",
   "name": "python3"
  },
  "language_info": {
   "codemirror_mode": {
    "name": "ipython",
    "version": 3
   },
   "file_extension": ".py",
   "mimetype": "text/x-python",
   "name": "python",
   "nbconvert_exporter": "python",
   "pygments_lexer": "ipython3",
   "version": "3.4.3"
  }
 },
 "nbformat": 4,
 "nbformat_minor": 0
}
